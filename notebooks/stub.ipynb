{
 "cells": [
  {
   "cell_type": "code",
   "execution_count": 89,
   "metadata": {},
   "outputs": [],
   "source": [
    "from selenium import webdriver\n",
    "from bs4 import BeautifulSoup\n",
    "from selenium.webdriver.common.by import By\n",
    "import json\n",
    "import sys\n",
    "import pandas as pd"
   ]
  },
  {
   "cell_type": "code",
   "execution_count": 82,
   "metadata": {},
   "outputs": [],
   "source": [
    "#sys.path.insert(0, '../')"
   ]
  },
  {
   "cell_type": "code",
   "execution_count": 37,
   "metadata": {},
   "outputs": [],
   "source": [
    "# #Click first video\n",
    "# driver.find_element(By.ID, \"video-title-link\").click()\n",
    "# driver.refresh()"
   ]
  },
  {
   "cell_type": "code",
   "execution_count": 87,
   "metadata": {},
   "outputs": [],
   "source": [
    "with open('../config/scrape-params.json') as fh:\n",
    "    scrape_cfg = json.load(fh)\n",
    "url = scrape_cfg['url']\n",
    "\n",
    "driver = webdriver.Chrome()\n",
    "driver.get(url)\n",
    "\n",
    "elements = driver.find_elements(By.ID, 'video-title')\n",
    "\n",
    "out = []\n",
    "for elem in elements[:-1]: #Last element is not actually a video\n",
    "    title = elem.get_attribute('innerHTML').strip()\n",
    "    link = elem.find_element(By.XPATH, \"./../..\").get_attribute('href') #Extracts link to video\n",
    "    \n",
    "    row = {'title': title, 'link': link, 'source': url}\n",
    "    out.append(row)"
   ]
  },
  {
   "cell_type": "code",
   "execution_count": 9,
   "metadata": {},
   "outputs": [],
   "source": [
    "html = driver.page_source\n",
    "soup = BeautifulSoup(html)"
   ]
  },
  {
   "cell_type": "code",
   "execution_count": null,
   "metadata": {},
   "outputs": [],
   "source": [
    "def open_video(url):\n",
    "    \n",
    "def save_recommendations():\n",
    "    "
   ]
  },
  {
   "cell_type": "code",
   "execution_count": 10,
   "metadata": {},
   "outputs": [
    {
     "data": {
      "text/plain": [
       "<div class=\"style-scope ytd-rich-grid-media\" id=\"dismissible\"><ytd-thumbnail class=\"style-scope ytd-rich-grid-media\" rich-grid-thumbnail=\"\" size=\"large\" use-hovered-property=\"\" width=\"9999\"><!--css-build:shady--><a aria-hidden=\"true\" class=\"yt-simple-endpoint inline-block style-scope ytd-thumbnail\" href=\"/watch?v=19s8CRUVf3E\" id=\"thumbnail\" rel=\"null\" tabindex=\"-1\">\n",
       "<yt-image alt=\"\" class=\"style-scope ytd-thumbnail\" disable-upgrade=\"\" ftl-eligible=\"\" hidden=\"\" notify-on-loaded=\"\" notify-on-unloaded=\"\">\n",
       "</yt-image>\n",
       "<yt-img-shadow class=\"style-scope ytd-thumbnail no-transition\" ftl-eligible=\"\" style=\"background-color: transparent;\"><!--css-build:shady--><img alt=\"\" class=\"style-scope yt-img-shadow\" draggable=\"false\" id=\"img\" src=\"https://i.ytimg.com/vi/19s8CRUVf3E/hq720.jpg?sqp=-oaymwEcCNAFEJQDSFXyq4qpAw4IARUAAIhCGAFwAcABBg==&amp;rs=AOn4CLD6XHOCPANj7IfiraN3ky7F1c3tag\" width=\"9999\"/></yt-img-shadow>\n",
       "<div class=\"style-scope ytd-thumbnail\" id=\"overlays\"></div>\n",
       "<div class=\"style-scope ytd-thumbnail\" id=\"mouseover-overlay\"></div>\n",
       "<div class=\"style-scope ytd-thumbnail\" id=\"hover-overlays\"></div>\n",
       "</a>\n",
       "</ytd-thumbnail><div class=\"style-scope ytd-rich-grid-media\" hidden=\"\" id=\"thumbnail-underlay\"></div><div class=\"style-scope ytd-rich-grid-media\" id=\"details\"><a class=\"yt-simple-endpoint style-scope ytd-rich-grid-media\" href=\"/c/HydraulicPressChannel\" id=\"avatar-link\" tabindex=\"-1\" title=\"Hydraulic Press Channel\"><yt-img-shadow class=\"style-scope ytd-rich-grid-media no-transition\" id=\"avatar\" style=\"background-color: transparent;\" width=\"48\"><!--css-build:shady--><img alt=\"\" class=\"style-scope yt-img-shadow\" draggable=\"false\" id=\"img\" src=\"https://yt3.ggpht.com/ytc/AMLnZu9sIeiaaUeie-ipUPEc3GPOY90zDS26OT4gnnt55g=s68-c-k-c0x00ffffff-no-rj\" width=\"48\"/></yt-img-shadow></a><div class=\"style-scope ytd-rich-grid-media\" id=\"meta\"><h3 class=\"style-scope ytd-rich-grid-media\"><ytd-badge-supported-renderer class=\"top-badge style-scope ytd-rich-grid-media\" collection-truncate=\"\" disable-upgrade=\"\" hidden=\"\"></ytd-badge-supported-renderer><a aria-label=\"10 MOST SURPRISING Hydraulic Press Moments by Hydraulic Press Channel 11 days ago 10 minutes, 37 seconds 1,485,004 views\" class=\"yt-simple-endpoint focus-on-expand style-scope ytd-rich-grid-media\" href=\"/watch?v=19s8CRUVf3E\" id=\"video-title-link\" title=\"10 MOST SURPRISING Hydraulic Press Moments\"><yt-formatted-string aria-label=\"10 MOST SURPRISING Hydraulic Press Moments by Hydraulic Press Channel 11 days ago 10 minutes, 37 seconds 1,485,004 views\" class=\"style-scope ytd-rich-grid-media\" id=\"video-title\">10 MOST SURPRISING Hydraulic Press Moments</yt-formatted-string></a></h3><ytd-video-meta-block class=\"grid style-scope ytd-rich-grid-media\" mini-mode=\"\" rich-meta=\"\"><!--css-build:shady-->\n",
       "<div class=\"style-scope ytd-video-meta-block\" id=\"metadata\">\n",
       "<div class=\"style-scope ytd-video-meta-block\" id=\"byline-container\">\n",
       "<ytd-channel-name class=\"style-scope ytd-video-meta-block\" id=\"channel-name\"><!--css-build:shady--><div class=\"style-scope ytd-channel-name\" id=\"container\">\n",
       "<div class=\"style-scope ytd-channel-name\" id=\"text-container\">\n",
       "<yt-formatted-string class=\"style-scope ytd-channel-name complex-string\" ellipsis-truncate=\"\" ellipsis-truncate-styling=\"\" has-link-only_=\"\" id=\"text\" link-inherit-color=\"\" title=\"\"><a class=\"yt-simple-endpoint style-scope yt-formatted-string\" dir=\"auto\" href=\"/c/HydraulicPressChannel\" spellcheck=\"false\">Hydraulic Press Channel</a></yt-formatted-string>\n",
       "</div>\n",
       "<tp-yt-paper-tooltip class=\"style-scope ytd-channel-name\" fit-to-visible-bounds=\"\" role=\"tooltip\" tabindex=\"-1\"><!--css-build:shady--><div class=\"hidden style-scope tp-yt-paper-tooltip\" id=\"tooltip\" style-target=\"tooltip\">\n",
       "  \n",
       "    Hydraulic Press Channel\n",
       "  \n",
       "</div>\n",
       "</tp-yt-paper-tooltip>\n",
       "</div>\n",
       "<ytd-badge-supported-renderer class=\"style-scope ytd-channel-name\" system-icons=\"\"><!--css-build:shady--><div aria-label=\"Verified\" class=\"badge badge-style-type-verified style-scope ytd-badge-supported-renderer\"><yt-icon class=\"style-scope ytd-badge-supported-renderer\"><svg class=\"style-scope yt-icon\" focusable=\"false\" preserveaspectratio=\"xMidYMid meet\" style=\"pointer-events: none; display: block; width: 100%; height: 100%;\" viewbox=\"0 0 24 24\"><g class=\"style-scope yt-icon\"><path class=\"style-scope yt-icon\" d=\"M12,2C6.5,2,2,6.5,2,12c0,5.5,4.5,10,10,10s10-4.5,10-10C22,6.5,17.5,2,12,2z M9.8,17.3l-4.2-4.1L7,11.8l2.8,2.7L17,7.4 l1.4,1.4L9.8,17.3z\"></path></g></svg><!--css-build:shady--></yt-icon><span class=\"style-scope ytd-badge-supported-renderer\"></span></div><dom-repeat as=\"badge\" class=\"style-scope ytd-badge-supported-renderer\" id=\"repeat\"><template is=\"dom-repeat\"></template></dom-repeat></ytd-badge-supported-renderer>\n",
       "</ytd-channel-name>\n",
       "<div class=\"style-scope ytd-video-meta-block\" id=\"separator\">•</div>\n",
       "<yt-formatted-string class=\"style-scope ytd-video-meta-block\" hidden=\"\" id=\"video-info\" is-empty=\"\"><!--css-build:shady--><yt-attributed-string class=\"style-scope yt-formatted-string\"></yt-attributed-string></yt-formatted-string>\n",
       "</div>\n",
       "<div class=\"style-scope ytd-video-meta-block\" id=\"metadata-line\">\n",
       "<ytd-badge-supported-renderer class=\"inline-metadata-badge style-scope ytd-video-meta-block\" hidden=\"\" system-icons=\"\"><!--css-build:shady--><dom-repeat as=\"badge\" class=\"style-scope ytd-badge-supported-renderer\" id=\"repeat\"><template is=\"dom-repeat\"></template></dom-repeat></ytd-badge-supported-renderer>\n",
       "<span class=\"inline-metadata-item style-scope ytd-video-meta-block\">1.4M views</span>\n",
       "<span class=\"inline-metadata-item style-scope ytd-video-meta-block\">11 days ago</span>\n",
       "<dom-repeat class=\"style-scope ytd-video-meta-block\" strip-whitespace=\"\"><template is=\"dom-repeat\"></template></dom-repeat>\n",
       "</div>\n",
       "</div>\n",
       "<div class=\"style-scope ytd-video-meta-block\" id=\"additional-metadata-line\">\n",
       "<dom-repeat class=\"style-scope ytd-video-meta-block\"><template is=\"dom-repeat\"></template></dom-repeat>\n",
       "</div>\n",
       "</ytd-video-meta-block><ytd-badge-supported-renderer class=\"video-badge style-scope ytd-rich-grid-media\" disable-upgrade=\"\" hidden=\"\"></ytd-badge-supported-renderer><ytd-badge-supported-renderer class=\"title-badge style-scope ytd-rich-grid-media\" disable-upgrade=\"\" hidden=\"\"></ytd-badge-supported-renderer><div class=\"style-scope ytd-rich-grid-media\" id=\"buttons\"></div></div><div class=\"style-scope ytd-rich-grid-media\" id=\"menu\"><ytd-menu-renderer class=\"style-scope ytd-rich-grid-media\" menu-active=\"\"><!--css-build:shady--><div class=\"top-level-buttons style-scope ytd-menu-renderer\" id=\"top-level-buttons-computed\"></div><div class=\"style-scope ytd-menu-renderer\" id=\"flexible-item-buttons\"></div><yt-icon-button class=\"dropdown-trigger style-scope ytd-menu-renderer\" id=\"button\" style-target=\"button\"><!--css-build:shady--><button aria-label=\"Action menu\" class=\"style-scope yt-icon-button\" id=\"button\"><yt-icon class=\"style-scope ytd-menu-renderer\"><svg class=\"style-scope yt-icon\" focusable=\"false\" preserveaspectratio=\"xMidYMid meet\" style=\"pointer-events: none; display: block; width: 100%; height: 100%;\" viewbox=\"0 0 24 24\"><g class=\"style-scope yt-icon\"><path class=\"style-scope yt-icon\" d=\"M12,16.5c0.83,0,1.5,0.67,1.5,1.5s-0.67,1.5-1.5,1.5s-1.5-0.67-1.5-1.5S11.17,16.5,12,16.5z M10.5,12 c0,0.83,0.67,1.5,1.5,1.5s1.5-0.67,1.5-1.5s-0.67-1.5-1.5-1.5S10.5,11.17,10.5,12z M10.5,6c0,0.83,0.67,1.5,1.5,1.5 s1.5-0.67,1.5-1.5S12.83,4.5,12,4.5S10.5,5.17,10.5,6z\"></path></g></svg><!--css-build:shady--></yt-icon></button><yt-interaction class=\"circular style-scope yt-icon-button\" id=\"interaction\"><!--css-build:shady--><div class=\"stroke style-scope yt-interaction\"></div><div class=\"fill style-scope yt-interaction\"></div></yt-interaction></yt-icon-button><yt-button-shape class=\"style-scope ytd-menu-renderer\" disable-upgrade=\"\" hidden=\"\" id=\"button-shape\" version=\"modern\"></yt-button-shape></ytd-menu-renderer></div></div></div>"
      ]
     },
     "execution_count": 10,
     "metadata": {},
     "output_type": "execute_result"
    }
   ],
   "source": [
    "soup.find(\"div\", {\"id\": \"dismissible\"})"
   ]
  },
  {
   "cell_type": "code",
   "execution_count": null,
   "metadata": {},
   "outputs": [],
   "source": []
  }
 ],
 "metadata": {
  "interpreter": {
   "hash": "2598ebe32e1416db772b9d31a7b41552db76a9e407ccd2a4c89b160635201652"
  },
  "kernelspec": {
   "display_name": "Python 3.8.10 ('.venv': venv)",
   "language": "python",
   "name": "python3"
  },
  "language_info": {
   "codemirror_mode": {
    "name": "ipython",
    "version": 3
   },
   "file_extension": ".py",
   "mimetype": "text/x-python",
   "name": "python",
   "nbconvert_exporter": "python",
   "pygments_lexer": "ipython3",
   "version": "3.8.10"
  },
  "orig_nbformat": 4
 },
 "nbformat": 4,
 "nbformat_minor": 2
}
